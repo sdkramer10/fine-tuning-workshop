{
 "cells": [
  {
   "cell_type": "markdown",
   "id": "6785f47a-5670-45a9-80df-a4d6f47b1181",
   "metadata": {},
   "source": [
    "## Setup\n",
    "\n",
    "To complete the following guide you will need to install the following packages:\n",
    "- fireworks-ai\n",
    "- pandas\n",
    "- requests\n",
    "\n",
    "You will also need:\n",
    "\n",
    "- Fireworks account (https://fireworks.ai/)\n",
    "- Fireworks API key\n",
    "- The firectl command-line interface (https://docs.fireworks.ai/tools-sdks/firectl/firectl)"
   ]
  },
  {
   "cell_type": "code",
   "execution_count": 1,
   "id": "e869493a-09c8-4036-8573-12a1d33e8723",
   "metadata": {},
   "outputs": [
    {
     "name": "stdout",
     "output_type": "stream",
     "text": [
      "\u001b[33mWARNING: You are using pip version 22.0.4; however, version 24.3.1 is available.\n",
      "You should consider upgrading via the '/Users/scottkramer/.pyenv/versions/3.8.16/envs/fine-tuning-workshop/bin/python3.8 -m pip install --upgrade pip' command.\u001b[0m\u001b[33m\n",
      "\u001b[0m"
     ]
    }
   ],
   "source": [
    "!pip install pandas requests fireworks-ai --quiet"
   ]
  },
  {
   "cell_type": "code",
   "execution_count": 2,
   "id": "b56a030b-9e82-43cc-8cde-ab20da4280a9",
   "metadata": {},
   "outputs": [],
   "source": [
    "import json\n",
    "import os\n",
    "import time\n",
    "\n",
    "from fireworks.client import Fireworks\n",
    "import pandas as pd\n",
    "import requests"
   ]
  },
  {
   "cell_type": "code",
   "execution_count": 3,
   "id": "09b2526b-5718-4c9e-9e56-69314314d76b",
   "metadata": {},
   "outputs": [
    {
     "name": "stdout",
     "output_type": "stream",
     "text": [
      "2024/11/18 17:40:06 There are updates available.\n",
      "Current version: 1.2.0\n",
      "Latest version: 1.4.2\n",
      "\n",
      "To upgrade to the latest version, run\n",
      "  $ sudo firectl upgrade\n",
      "\n",
      "Signed in as: sdkramer10@gmail.com\n",
      "Account ID: sdkramer10-5e98cb\n"
     ]
    }
   ],
   "source": [
    "# Sign-in to your Fireworks account\n",
    "!firectl signin"
   ]
  },
  {
   "cell_type": "code",
   "execution_count": 3,
   "id": "3a5636ee-8032-4f24-b69a-c90414078d2c",
   "metadata": {},
   "outputs": [],
   "source": [
    "# Make sure you have the FIREWORKS_API_KEY environment variable set to your account's key!\n",
    "# os.environ['FIREWORKS_API_KEY'] = 'XXX'\n",
    "\n",
    "client = Fireworks()\n",
    "\n",
    "# Replace the line below with your Fireworks account id\n",
    "account_id = 'XXX'"
   ]
  },
  {
   "cell_type": "markdown",
   "id": "7644dd67-321b-42a5-bdd3-4f34c94550b1",
   "metadata": {},
   "source": [
    "## Problem Definition: Career Coach Chatbot\n",
    "\n",
    "*Note: The data used in this example were synthetically generated with Claude 3.5 Sonnet*\n",
    "\n",
    "This example provides a template for fine-tuning chatbots. This notebook focuses on fine-tuning a chatbot to act as a career coach for software developers."
   ]
  },
  {
   "cell_type": "markdown",
   "id": "a676d915-0344-4a40-91f0-a72ca73008fd",
   "metadata": {},
   "source": [
    "### Data\n",
    "\n",
    "The data can be found in the `data` folder.\n",
    "\n",
    "We will use the following datasets:\n",
    "- `./data/training_data.csv`\n",
    "- `./data/test_data.csv`\n",
    "\n",
    "Each of these datasets consists of conversations between a software developer and a career coach."
   ]
  },
  {
   "cell_type": "code",
   "execution_count": 41,
   "id": "fe053079-67ec-4b14-a377-9e01f180b94d",
   "metadata": {},
   "outputs": [],
   "source": [
    "training_df = pd.read_csv(\"data/training_conversations.csv\")\n",
    "test_df = pd.read_csv(\"data/test_conversations.csv\")"
   ]
  },
  {
   "cell_type": "code",
   "execution_count": 69,
   "id": "0f1f8c6a-90e7-4d32-b9b6-9de0a52c51f2",
   "metadata": {},
   "outputs": [],
   "source": [
    "system_msg = \"\"\"You are a technical career coach for software developers. Your role is to help developers explore their career options and make informed decisions.\n",
    "Core principles:\n",
    "\n",
    "Ask thoughtful, open-ended questions focused on understanding their situation\n",
    "Guide developers to insights rather than giving direct advice\n",
    "Consider both technical growth and personal fulfillment\n",
    "Balance immediate needs with long-term career development\n",
    "Show understanding of software development roles, transitions, and industry trends\n",
    "\n",
    "Maintain a supportive, professional tone while helping developers think deeply about their career decisions. Focus on understanding their unique context and goals rather than providing generic advice.\"\"\""
   ]
  },
  {
   "cell_type": "code",
   "execution_count": 17,
   "id": "c5924ece-0522-4e3b-9dc3-3fce2f0ab109",
   "metadata": {},
   "outputs": [],
   "source": [
    "# Converts the training examples to the format expected by Fireworks.\n",
    "training_rows = list()\n",
    "for _, group in training_df.groupby(\"conversation_name\"):\n",
    "    messages = [{\"role\": \"system\", \"content\": system_msg}]\n",
    "\n",
    "    for _, row in group.iterrows():\n",
    "        role = \"user\" if row[\"user\"] == \"Developer\" else \"assistant\"\n",
    "        messages.append({\"role\": role, \"content\": row[\"message\"]})\n",
    "    \n",
    "    training_row = {\"messages\": messages}   \n",
    "    training_rows.append(training_row)"
   ]
  },
  {
   "cell_type": "code",
   "execution_count": 21,
   "id": "68de340d-f246-4243-a205-5a4ebf2b7acb",
   "metadata": {},
   "outputs": [],
   "source": [
    "# Writes the data to a file so that it can be uploaded to Fireworks\n",
    "dataset_file_name = 'career-coach-chatbot-training-dataset.jsonl'\n",
    "dataset_id = 'career-coach-chatbot-training-dataset-v1'\n",
    "\n",
    "with open(dataset_file_name, 'w') as f:\n",
    "    for obj in training_rows:\n",
    "        json.dump(obj, f)\n",
    "        f.write('\\n')"
   ]
  },
  {
   "cell_type": "code",
   "execution_count": 71,
   "id": "c6a68299-9751-4263-ae87-1a9a531caf3e",
   "metadata": {},
   "outputs": [],
   "source": [
    "# Follow instructions here to first install the firectil CLI - https://readme.fireworks.ai/docs/fine-tuning-models#installing-firectl\n",
    "# Then run this command to upload the file to Fireworks\n",
    "!firectl create dataset {dataset_id} {dataset_file_name}"
   ]
  },
  {
   "cell_type": "markdown",
   "id": "2923f501-3de1-40c4-a30f-41b8c4171210",
   "metadata": {},
   "source": [
    "### Fine-tune model\n",
    "We now fine-tune the model with the generated dataset. For this example, we set the batch size smaller than the default, as each example in the batch contains an entire conversation, and is effectively multiple examples."
   ]
  },
  {
   "cell_type": "code",
   "execution_count": 72,
   "id": "ee8dd75b-d1d4-4e9c-be55-e7c7777cbb26",
   "metadata": {},
   "outputs": [],
   "source": [
    "# Creates a training job with the default hyperparameters\n",
    "!firectl create fine-tuning-job --settings-file fireworks-fine-tune-config.yaml --display-name \"developer career coach\" --dataset {dataset_id} "
   ]
  },
  {
   "cell_type": "code",
   "execution_count": 34,
   "id": "e8565ac9-eb20-4070-8c7c-7796d199f673",
   "metadata": {},
   "outputs": [],
   "source": [
    "# NOTE THAT THESE IDS WILL CHANGE WHEN YOU RUN THE FINE-TUNING JOB ON YOUR ACCOUNT!!!\n",
    "# The model id is printed in the stdout of the cell above as Name: accounts/{account_id}/fineTuningJobs/{model_id}\n",
    "model_id = 'c30a1bea220441c18348919618b09601'"
   ]
  },
  {
   "cell_type": "code",
   "execution_count": 76,
   "id": "498a82de-3e66-47ec-bab4-b951ef86c57f",
   "metadata": {},
   "outputs": [],
   "source": [
    "# Wait until the State of the two fine-tuning jobs are listed as COMPLETED (~10-20 minutes)\n",
    "!firectl get fine-tuning-job {model_id}"
   ]
  },
  {
   "cell_type": "code",
   "execution_count": 37,
   "id": "9d6ad509-6eda-4fe7-8ffe-1b2814a2979c",
   "metadata": {},
   "outputs": [
    {
     "name": "stdout",
     "output_type": "stream",
     "text": [
      "2024/11/22 17:19:39 There are updates available.\n",
      "Current version: 1.2.0\n",
      "Latest version: 1.4.3\n",
      "\n",
      "To upgrade to the latest version, run\n",
      "  $ sudo firectl upgrade\n",
      "\n"
     ]
    }
   ],
   "source": [
    "# Deploy the fine-tuned model\n",
    "!firectl deploy {model_id}"
   ]
  },
  {
   "cell_type": "code",
   "execution_count": 75,
   "id": "24575051-3271-48b9-9521-ee1579acd190",
   "metadata": {},
   "outputs": [],
   "source": [
    "# Wait until the the Deployed Model Refs lists the state of the model as \"DEPLOYED\" (~5-20 minutes).\n",
    "!firectl get model {model_id}"
   ]
  },
  {
   "cell_type": "markdown",
   "id": "01a92b68-663b-4e47-9ef8-03a74c8c2e22",
   "metadata": {},
   "source": [
    "### Evaluation\n",
    "We now evaluate the fine-tuned model on our test data. For each message from the coach in the test data, we track the generated response, the response from the golden dataset, and the conversation history context.\n",
    "\n",
    "We can then use techniques such as an LLM judge or heuristics to evaluate the results."
   ]
  },
  {
   "cell_type": "code",
   "execution_count": 50,
   "id": "9e80b25c-fcce-4ad5-a229-367cb1c1f508",
   "metadata": {},
   "outputs": [],
   "source": [
    "def generate_response(model, messages):\n",
    "    response = client.chat.completions.create(\n",
    "        model=model,\n",
    "        messages=messages\n",
    "    )\n",
    "    return response.choices[0].message.content"
   ]
  },
  {
   "cell_type": "code",
   "execution_count": 66,
   "id": "5e673447-63c2-44dc-b2f1-5d933af26f38",
   "metadata": {},
   "outputs": [],
   "source": [
    "model = f'accounts/{account_id}/models/{model_id}'\n",
    "\n",
    "result_rows = []\n",
    "for _, group in test_df.groupby(\"conversation_name\"):\n",
    "    messages = [{\"role\": \"system\", \"content\": system_msg}]\n",
    "\n",
    "    for row_idx, row in group.iterrows():\n",
    "        role = \"user\" if row[\"user\"] == \"Developer\" else \"assistant\"\n",
    "\n",
    "        if role == \"user\":\n",
    "            messages.append({\"role\": role, \"content\": row[\"message\"]})\n",
    "            continue\n",
    "\n",
    "        ideal_response = row[\"message\"]\n",
    "        actual_response = generate_response(model, messages)\n",
    "        conversation_history = \"\\n\".join(\n",
    "            f'{message[\"role\"].capitalize()}: {message[\"content\"]}'\n",
    "            for message in messages if message[\"role\"] != \"system\"\n",
    "        )\n",
    "        \n",
    "        result_rows.append({\n",
    "            \"conversation\": conversation_history,\n",
    "            \"ideal_response\": ideal_response,\n",
    "            \"actual_response\": actual_response,\n",
    "        })\n",
    "\n",
    "        messages.append({\"role\": role, \"content\": row[\"message\"]})\n",
    "\n",
    "results_df = pd.DataFrame(result_rows)"
   ]
  },
  {
   "cell_type": "code",
   "execution_count": 68,
   "id": "e4b6530f-20e4-44bf-8929-14d749ec6ec5",
   "metadata": {},
   "outputs": [],
   "source": [
    "results_df.to_csv(\"evaluations.csv\", index=False)"
   ]
  },
  {
   "cell_type": "code",
   "execution_count": 74,
   "id": "15a258ab-5238-472e-9396-0b3842bd6af9",
   "metadata": {},
   "outputs": [
    {
     "name": "stdout",
     "output_type": "stream",
     "text": [
      "2024/11/22 17:57:14 There are updates available.\n",
      "Current version: 1.2.0\n",
      "Latest version: 1.4.3\n",
      "\n",
      "To upgrade to the latest version, run\n",
      "  $ sudo firectl upgrade\n",
      "\n",
      "2024/11/22 17:57:16 Failed to execute: rpc error: code = Unimplemented desc = unknown method UndeployModel for service gateway.Gateway\n"
     ]
    }
   ],
   "source": [
    "!firectl undeploy {model_id}"
   ]
  },
  {
   "cell_type": "code",
   "execution_count": null,
   "id": "f54f825c-3b62-4902-876a-8962a1cd801b",
   "metadata": {},
   "outputs": [],
   "source": []
  }
 ],
 "metadata": {
  "kernelspec": {
   "display_name": "Python 3 (ipykernel)",
   "language": "python",
   "name": "python3"
  },
  "language_info": {
   "codemirror_mode": {
    "name": "ipython",
    "version": 3
   },
   "file_extension": ".py",
   "mimetype": "text/x-python",
   "name": "python",
   "nbconvert_exporter": "python",
   "pygments_lexer": "ipython3",
   "version": "3.8.16"
  }
 },
 "nbformat": 4,
 "nbformat_minor": 5
}
