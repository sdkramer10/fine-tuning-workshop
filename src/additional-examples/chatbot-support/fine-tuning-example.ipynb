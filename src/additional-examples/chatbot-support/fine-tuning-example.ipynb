{
 "cells": [
  {
   "cell_type": "markdown",
   "id": "6785f47a-5670-45a9-80df-a4d6f47b1181",
   "metadata": {},
   "source": [
    "## Setup\n",
    "\n",
    "To complete the following guide you will need to install the following packages:\n",
    "- fireworks-ai\n",
    "- pandas\n",
    "- requests\n",
    "\n",
    "You will also need:\n",
    "\n",
    "- Fireworks account (https://fireworks.ai/)\n",
    "- Fireworks API key\n",
    "- The firectl command-line interface (https://docs.fireworks.ai/tools-sdks/firectl/firectl)"
   ]
  },
  {
   "cell_type": "code",
   "execution_count": 1,
   "id": "e869493a-09c8-4036-8573-12a1d33e8723",
   "metadata": {},
   "outputs": [
    {
     "name": "stdout",
     "output_type": "stream",
     "text": [
      "\u001b[33mWARNING: You are using pip version 22.0.4; however, version 24.3.1 is available.\n",
      "You should consider upgrading via the '/Users/scottkramer/.pyenv/versions/3.8.16/envs/fine-tuning-workshop/bin/python3.8 -m pip install --upgrade pip' command.\u001b[0m\u001b[33m\n",
      "\u001b[0m"
     ]
    }
   ],
   "source": [
    "!pip install pandas requests fireworks-ai --quiet"
   ]
  },
  {
   "cell_type": "code",
   "execution_count": 2,
   "id": "b56a030b-9e82-43cc-8cde-ab20da4280a9",
   "metadata": {},
   "outputs": [],
   "source": [
    "import json\n",
    "import os\n",
    "import time\n",
    "\n",
    "from fireworks.client import Fireworks\n",
    "import pandas as pd\n",
    "import requests"
   ]
  },
  {
   "cell_type": "code",
   "execution_count": 3,
   "id": "09b2526b-5718-4c9e-9e56-69314314d76b",
   "metadata": {},
   "outputs": [
    {
     "name": "stdout",
     "output_type": "stream",
     "text": [
      "2024/11/18 17:40:06 There are updates available.\n",
      "Current version: 1.2.0\n",
      "Latest version: 1.4.2\n",
      "\n",
      "To upgrade to the latest version, run\n",
      "  $ sudo firectl upgrade\n",
      "\n",
      "Signed in as: sdkramer10@gmail.com\n",
      "Account ID: sdkramer10-5e98cb\n"
     ]
    }
   ],
   "source": [
    "# Sign-in to your Fireworks account\n",
    "!firectl signin"
   ]
  },
  {
   "cell_type": "code",
   "execution_count": 4,
   "id": "3a5636ee-8032-4f24-b69a-c90414078d2c",
   "metadata": {},
   "outputs": [],
   "source": [
    "# Make sure you have the FIREWORKS_API_KEY environment variable set to your account's key!\n",
    "# os.environ['FIREWORKS_API_KEY'] = 'XXX'\n",
    "\n",
    "client = Fireworks()\n",
    "\n",
    "# Replace the line below with your Fireworks account id\n",
    "account_id = 'XXX'"
   ]
  },
  {
   "cell_type": "code",
   "execution_count": 9,
   "id": "0f1f8c6a-90e7-4d32-b9b6-9de0a52c51f2",
   "metadata": {},
   "outputs": [],
   "source": [
    "system_msg = \"You are an intelligent Solana chat support agent. Use your own knowledge to answer each question with example code or useful links. Avoid any sales-speak and avoid explaining acronyms. When providing code examples, specify what language is used. ie ```javascript or ```rust \\n\\n\"\n",
    "user_msg = \"Solana Program Upgrade Best Practices\\n\\nAre there any rules / best practices when upgrading programs in Solana? Coming from the Ethereum development space, it's really important in the EVM to make sure existing storage isn't reallocated to new variables as a best practice (of course there are edge cases with bitpacking etc), but rather to continue to add new variables.\\r\\n\\r\\nI am curious if there are similar restrictions / edge cases to watch out for when thinking about upgrading programs in Solana?\"\n",
    "assistant_msg = \"As long as a solana progamm is not frozen you can update it any time. If it becomes bigger after the upgrade you need to check if you payed enough rent for the new program size. \\r\\n\\r\\nAs of now all programs deployed will be deployed with double the size needed. This will change soon since it is now possible to extend the size of programs. \\r\\n\\r\\nExtend program was activated on mainnet in epoch 532:\\r\\nhttps://github.com/solana-labs/solana/issues/26385\\r\\n\\r\\nFor accounts you can also allocate more data and then use the bytes after you extended the accounts. \\r\\nTo increase an account size using anchor you can for example do it like this: \\r\\n\\r\\n #[derive(Accounts)]\\r\\n #[instruction(len: u16)]\\r\\n pub struct IncreaseZeroCopy<'info> {\\r\\n #[account(mut, \\r\\n realloc = len as usize, \\r\\n realloc::zero = true, \\r\\n realloc::payer=signer)]\\r\\n pub data_holder: AccountLoader<'info, DataHolder>,\\r\\n #[account(mut)]\\r\\n pub signer: Signer<'info>,\\r\\n #[account(address = system_program::ID)]\\r\\n pub system_program: Program<'info, System>,\\r\\n }\\r\\n\\r\\nIn a progamm you can also use: \\r\\n\\r\\n pda_account.realloc(new_size, false)?;\\r\\n\\r\\nIn this repo you can see some more info about how to create big accounts and realloc: \\r\\nhttps://github.com/solana-developers/anchor-zero-copy-example\\r\\n\\r\\nThe max size for accounts created via CPI (for example anchor init) is 10K max account size in general 10mb. \\r\\n\\r\\nComplicated it becomes when you need to migrate data. Then you probably want to have a migration instruction in your program and V1 and V2 accounts or smth like that. \\r\\n\\r\\n\\n\"\n",
    "\n",
    "training_example = {\n",
    "    \"system\": system_msg,\n",
    "    \"user\": user_msg,\n",
    "    \"assistant\": assistant_msg\n",
    "}"
   ]
  },
  {
   "cell_type": "code",
   "execution_count": 12,
   "id": "1f2e886f-494d-4f51-8e00-72c2a18e2c59",
   "metadata": {},
   "outputs": [],
   "source": [
    "# Converts the training examples to the format expected by Fireworks.\n",
    "def training_examples_to_json(examples):\n",
    "    json_objs = list()\n",
    "    for example in examples:  \n",
    "\n",
    "        msg = {\"messages\": [\n",
    "            {\"role\": \"system\", \"content\": example['system']},\n",
    "            {\"role\": \"user\", \"content\": example['user']},\n",
    "            {\"role\": \"assistant\", \"content\": example['assistant']},\n",
    "        ]}\n",
    "        json_objs.append(msg)\n",
    "    \n",
    "    return json_objs\n",
    "\n",
    "training_json = training_examples_to_json([training_example])"
   ]
  },
  {
   "cell_type": "code",
   "execution_count": 13,
   "id": "68de340d-f246-4243-a205-5a4ebf2b7acb",
   "metadata": {},
   "outputs": [],
   "source": [
    "# Writes the data to a file so that it can be uploaded to Fireworks\n",
    "dataset_file_name = 'fine-tune-examples.jsonl'\n",
    "dataset_id = 'solana-stackexchange-07-20'\n",
    "\n",
    "with open(dataset_file_name, 'w') as f:\n",
    "    for obj in training_json:\n",
    "        json.dump(obj, f)\n",
    "        f.write('\\n')"
   ]
  },
  {
   "cell_type": "code",
   "execution_count": 14,
   "id": "c6a68299-9751-4263-ae87-1a9a531caf3e",
   "metadata": {},
   "outputs": [
    {
     "name": "stdout",
     "output_type": "stream",
     "text": [
      "2024/11/18 17:53:02 There are updates available.\n",
      "Current version: 1.2.0\n",
      "Latest version: 1.4.2\n",
      "\n",
      "To upgrade to the latest version, run\n",
      "  $ sudo firectl upgrade\n",
      "\n",
      "2.45 KiB / 2.45 KiB [-----------------------------] 100.00% 120.54 KiB p/s 200ms\n"
     ]
    }
   ],
   "source": [
    "# Follow instructions here to first install the firectil CLI - https://readme.fireworks.ai/docs/fine-tuning-models#installing-firectl\n",
    "# Then run this command to upload the file to Fireworks\n",
    "!firectl create dataset {dataset_id} {dataset_file_name}"
   ]
  },
  {
   "cell_type": "code",
   "execution_count": 15,
   "id": "ee8dd75b-d1d4-4e9c-be55-e7c7777cbb26",
   "metadata": {},
   "outputs": [
    {
     "name": "stdout",
     "output_type": "stream",
     "text": [
      "2024/11/18 17:55:48 There are updates available.\n",
      "Current version: 1.2.0\n",
      "Latest version: 1.4.2\n",
      "\n",
      "To upgrade to the latest version, run\n",
      "  $ sudo firectl upgrade\n",
      "\n",
      "Name: accounts/sdkramer10-5e98cb/fineTuningJobs/1ec7d39444864d78b60376c07141c4e3\n",
      "Display Name: Solana stack exchange fine tune Job test\n",
      "Create Time: 2024-11-18 17:55:49\n",
      "State: CREATING\n",
      "Dataset: accounts/sdkramer10-5e98cb/datasets/solana-stackexchange-07-20\n",
      "Status: OK\n",
      "Created By: sdkramer10@gmail.com\n",
      "Container Version: \n",
      "Model Id: \n",
      "Wandb Url: \n",
      "Conversation:\n",
      "  Jinja Template: \n",
      "{%- set _mode = mode | default('generate', true) -%}\n",
      "{%- set stop_token = '<|eot_id|>' -%}\n",
      "{%- set message_roles = ['SYSTEM', 'USER', 'ASSISTANT'] -%}\n",
      "{%- set ns = namespace(initial_system_message_handled=false, last_assistant_index_for_eos=-1, messages=messages) -%}\n",
      "{%- for message in ns.messages -%}\n",
      "    {%- if not message.get('role') -%}\n",
      "        {{ raise_exception('Key [role] is missing. Original input: ' +  message|tojson) }}\n",
      "    {%- endif -%}\n",
      "    {%- if message['role'] | upper not in message_roles -%}\n",
      "        {{ raise_exception('Invalid role ' + message['role']|tojson + '. Only ' + message_roles|tojson + ' are supported.') }}\n",
      "    {%- endif -%}\n",
      "    {%- if 'content' not in message -%}\n",
      "        {{ raise_exception('Key [content] is missing. Original input: ' +  message|tojson) }}\n",
      "    {%- endif -%}\n",
      "    {%- if loop.last and message['role'] | upper == 'ASSISTANT' -%}\n",
      "        {%- set ns.last_assistant_index_for_eos = loop.index0 -%}\n",
      "    {%- endif -%}\n",
      "{%- endfor -%}\n",
      "{%- if _mode == 'generate' -%}\n",
      "    {{ bos_token }}\n",
      "{%- endif -%}\n",
      "{%- for message in ns.messages -%}\n",
      "    {%- if message['role'] | upper == 'SYSTEM' and not ns.initial_system_message_handled -%}\n",
      "        {%- set ns.initial_system_message_handled = true -%}\n",
      "        {{ '<|start_header_id|>system<|end_header_id|>\\n\\n' + message['content'] + stop_token }}\n",
      "    {%- elif message['role'] | upper != 'SYSTEM' -%}\n",
      "        {%- if (message['role'] | upper == 'USER') != ((loop.index0 - (1 if ns.initial_system_message_handled else 0)) % 2 == 0) -%}\n",
      "            {{ raise_exception('Conversation roles must alternate user/assistant/user/assistant/...') }}\n",
      "        {%- endif -%}\n",
      "        {%- if message['role'] | upper == 'USER' -%}\n",
      "            {{ '<|start_header_id|>user<|end_header_id|>\\n\\n' + message['content'] + stop_token }}\n",
      "        {%- elif message['role'] | upper == 'ASSISTANT' -%}\n",
      "            {%- if _mode == 'train' -%}\n",
      "                {{ '<|start_header_id|>assistant<|end_header_id|>\\n\\n' + unk_token + message['content'] + stop_token + unk_token }}\n",
      "            {%- else -%}\n",
      "                {{ '<|start_header_id|>assistant<|end_header_id|>\\n\\n' + message['content'] + (stop_token if loop.index0 != ns.last_assistant_index_for_eos else '') }}\n",
      "            {%- endif -%}\n",
      "        {%- endif -%}\n",
      "    {%- endif -%}\n",
      "{%- endfor -%}\n",
      "{%- if _mode == 'generate' and ns.last_assistant_index_for_eos == -1 -%}\n",
      "    {{ '<|start_header_id|>assistant<|end_header_id|>' }}\n",
      "{%- endif -%}\n",
      "\n",
      "Base Model: accounts/fireworks/models/llama-v3p1-8b-instruct\n",
      "Epochs: 1\n",
      "Learning Rate: 0.0001\n",
      "Lora Rank: 8\n",
      "Batch Size: 16\n",
      "Wandb Entity: \n",
      "Wandb Api Key: \n",
      "Wandb Project: \n"
     ]
    }
   ],
   "source": [
    "# Creates a training job with the default hyperparameters\n",
    "!firectl create fine-tuning-job --settings-file fireworks-fine-tune-config.yaml --display-name \"Solana stack exchange fine tune Job test\" --dataset {dataset_id} "
   ]
  },
  {
   "cell_type": "code",
   "execution_count": 16,
   "id": "e8565ac9-eb20-4070-8c7c-7796d199f673",
   "metadata": {},
   "outputs": [],
   "source": [
    "# NOTE THAT THESE IDS WILL CHANGE WHEN YOU RUN THE FINE-TUNING JOB ON YOUR ACCOUNT!!!\n",
    "# The model id is printed in the stdout of the cell above as Name: accounts/{account_id}/fineTuningJobs/{model_id}\n",
    "model_id = '1ec7d39444864d78b60376c07141c4e3'"
   ]
  },
  {
   "cell_type": "code",
   "execution_count": 20,
   "id": "498a82de-3e66-47ec-bab4-b951ef86c57f",
   "metadata": {},
   "outputs": [
    {
     "name": "stdout",
     "output_type": "stream",
     "text": [
      "2024/11/18 17:59:06 There are updates available.\n",
      "Current version: 1.2.0\n",
      "Latest version: 1.4.2\n",
      "\n",
      "To upgrade to the latest version, run\n",
      "  $ sudo firectl upgrade\n",
      "\n",
      "Name: accounts/sdkramer10-5e98cb/fineTuningJobs/1ec7d39444864d78b60376c07141c4e3\n",
      "Display Name: Solana stack exchange fine tune Job test\n",
      "Create Time: 2024-11-18 17:55:49\n",
      "State: COMPLETED\n",
      "Dataset: accounts/sdkramer10-5e98cb/datasets/solana-stackexchange-07-20\n",
      "Status: OK\n",
      "Created By: sdkramer10@gmail.com\n",
      "Container Version: \n",
      "Model Id: 1ec7d39444864d78b60376c07141c4e3\n",
      "Wandb Url: \n",
      "Conversation:\n",
      "  Jinja Template: \n",
      "{%- set _mode = mode | default('generate', true) -%}\n",
      "{%- set stop_token = '<|eot_id|>' -%}\n",
      "{%- set message_roles = ['SYSTEM', 'USER', 'ASSISTANT'] -%}\n",
      "{%- set ns = namespace(initial_system_message_handled=false, last_assistant_index_for_eos=-1, messages=messages) -%}\n",
      "{%- for message in ns.messages -%}\n",
      "    {%- if not message.get('role') -%}\n",
      "        {{ raise_exception('Key [role] is missing. Original input: ' +  message|tojson) }}\n",
      "    {%- endif -%}\n",
      "    {%- if message['role'] | upper not in message_roles -%}\n",
      "        {{ raise_exception('Invalid role ' + message['role']|tojson + '. Only ' + message_roles|tojson + ' are supported.') }}\n",
      "    {%- endif -%}\n",
      "    {%- if 'content' not in message -%}\n",
      "        {{ raise_exception('Key [content] is missing. Original input: ' +  message|tojson) }}\n",
      "    {%- endif -%}\n",
      "    {%- if loop.last and message['role'] | upper == 'ASSISTANT' -%}\n",
      "        {%- set ns.last_assistant_index_for_eos = loop.index0 -%}\n",
      "    {%- endif -%}\n",
      "{%- endfor -%}\n",
      "{%- if _mode == 'generate' -%}\n",
      "    {{ bos_token }}\n",
      "{%- endif -%}\n",
      "{%- for message in ns.messages -%}\n",
      "    {%- if message['role'] | upper == 'SYSTEM' and not ns.initial_system_message_handled -%}\n",
      "        {%- set ns.initial_system_message_handled = true -%}\n",
      "        {{ '<|start_header_id|>system<|end_header_id|>\\n\\n' + message['content'] + stop_token }}\n",
      "    {%- elif message['role'] | upper != 'SYSTEM' -%}\n",
      "        {%- if (message['role'] | upper == 'USER') != ((loop.index0 - (1 if ns.initial_system_message_handled else 0)) % 2 == 0) -%}\n",
      "            {{ raise_exception('Conversation roles must alternate user/assistant/user/assistant/...') }}\n",
      "        {%- endif -%}\n",
      "        {%- if message['role'] | upper == 'USER' -%}\n",
      "            {{ '<|start_header_id|>user<|end_header_id|>\\n\\n' + message['content'] + stop_token }}\n",
      "        {%- elif message['role'] | upper == 'ASSISTANT' -%}\n",
      "            {%- if _mode == 'train' -%}\n",
      "                {{ '<|start_header_id|>assistant<|end_header_id|>\\n\\n' + unk_token + message['content'] + stop_token + unk_token }}\n",
      "            {%- else -%}\n",
      "                {{ '<|start_header_id|>assistant<|end_header_id|>\\n\\n' + message['content'] + (stop_token if loop.index0 != ns.last_assistant_index_for_eos else '') }}\n",
      "            {%- endif -%}\n",
      "        {%- endif -%}\n",
      "    {%- endif -%}\n",
      "{%- endfor -%}\n",
      "{%- if _mode == 'generate' and ns.last_assistant_index_for_eos == -1 -%}\n",
      "    {{ '<|start_header_id|>assistant<|end_header_id|>' }}\n",
      "{%- endif -%}\n",
      "\n",
      "Base Model: accounts/fireworks/models/llama-v3p1-8b-instruct\n",
      "Epochs: 1\n",
      "Learning Rate: 0.0001\n",
      "Lora Rank: 8\n",
      "Batch Size: 16\n",
      "Wandb Entity: \n",
      "Wandb Api Key: \n",
      "Wandb Project: \n"
     ]
    }
   ],
   "source": [
    "# Wait until the State of the two fine-tuning jobs are listed as COMPLETED (~10-20 minutes)\n",
    "!firectl get fine-tuning-job {model_id}"
   ]
  }
 ],
 "metadata": {
  "kernelspec": {
   "display_name": "Python 3 (ipykernel)",
   "language": "python",
   "name": "python3"
  },
  "language_info": {
   "codemirror_mode": {
    "name": "ipython",
    "version": 3
   },
   "file_extension": ".py",
   "mimetype": "text/x-python",
   "name": "python",
   "nbconvert_exporter": "python",
   "pygments_lexer": "ipython3",
   "version": "3.8.16"
  }
 },
 "nbformat": 4,
 "nbformat_minor": 5
}
